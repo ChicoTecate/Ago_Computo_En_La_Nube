{
  "nbformat": 4,
  "nbformat_minor": 0,
  "metadata": {
    "colab": {
      "provenance": [],
      "authorship_tag": "ABX9TyPvCVK1kQ/6T/x8cVwbfRL6",
      "include_colab_link": true
    },
    "kernelspec": {
      "name": "python3",
      "display_name": "Python 3"
    },
    "language_info": {
      "name": "python"
    }
  },
  "cells": [
    {
      "cell_type": "markdown",
      "metadata": {
        "id": "view-in-github",
        "colab_type": "text"
      },
      "source": [
        "<a href=\"https://colab.research.google.com/github/ChicoTecate/Ago_Computo_En_La_Nube/blob/main/ComandosEnPY1_3.ipynb\" target=\"_parent\"><img src=\"https://colab.research.google.com/assets/colab-badge.svg\" alt=\"Open In Colab\"/></a>"
      ]
    },
    {
      "cell_type": "code",
      "execution_count": 4,
      "metadata": {
        "colab": {
          "base_uri": "https://localhost:8080/",
          "height": 254
        },
        "id": "ADyxXoV7--ql",
        "outputId": "723afb52-bfad-4439-a6aa-503d65e91fb9"
      },
      "outputs": [
        {
          "output_type": "error",
          "ename": "FileExistsError",
          "evalue": "ignored",
          "traceback": [
            "\u001b[0;31m---------------------------------------------------------------------------\u001b[0m",
            "\u001b[0;31mFileExistsError\u001b[0m                           Traceback (most recent call last)",
            "\u001b[0;32m<ipython-input-4-feeb324723a7>\u001b[0m in \u001b[0;36m<cell line: 4>\u001b[0;34m()\u001b[0m\n\u001b[1;32m      2\u001b[0m \u001b[0;34m\u001b[0m\u001b[0m\n\u001b[1;32m      3\u001b[0m \u001b[0;31m# Primer bloque de código: Abre el archivo 'write_x.txt' en modo 'x' (creación) y escribe la línea 1.\u001b[0m\u001b[0;34m\u001b[0m\u001b[0;34m\u001b[0m\u001b[0m\n\u001b[0;32m----> 4\u001b[0;31m \u001b[0;32mwith\u001b[0m \u001b[0mopen\u001b[0m\u001b[0;34m(\u001b[0m\u001b[0;34m'write_x.txt'\u001b[0m\u001b[0;34m,\u001b[0m \u001b[0;34m'x'\u001b[0m\u001b[0;34m)\u001b[0m \u001b[0;32mas\u001b[0m \u001b[0mfw\u001b[0m\u001b[0;34m:\u001b[0m\u001b[0;34m\u001b[0m\u001b[0;34m\u001b[0m\u001b[0m\n\u001b[0m\u001b[1;32m      5\u001b[0m     \u001b[0mfw\u001b[0m\u001b[0;34m.\u001b[0m\u001b[0mwrite\u001b[0m\u001b[0;34m(\u001b[0m\u001b[0;34m'Writing line 1'\u001b[0m\u001b[0;34m)\u001b[0m\u001b[0;34m\u001b[0m\u001b[0;34m\u001b[0m\u001b[0m\n\u001b[1;32m      6\u001b[0m \u001b[0;34m\u001b[0m\u001b[0m\n",
            "\u001b[0;31mFileExistsError\u001b[0m: [Errno 17] File exists: 'write_x.txt'"
          ]
        }
      ],
      "source": [
        "# files/write_not_exists.py\n",
        "\n",
        "# Primer bloque de código: Abre el archivo 'write_x.txt' en modo 'x' (creación) y escribe la línea 1.\n",
        "with open('write_x.txt', 'x') as fw:\n",
        "    fw.write('Writing line 1')\n",
        "\n",
        "# Segundo bloque de código: Abre el archivo 'write_x.txt' en modo 'a' (apéndice) y agrega la línea 2 al archivo existente.\n",
        "with open('write_x.txt', 'a') as fw:\n",
        "    fw.write('Writing line 2')\n"
      ]
    },
    {
      "cell_type": "code",
      "source": [
        "from collections import Counter\n",
        "from string import ascii_letters\n",
        "\n",
        "chars = ascii_letters + ' '\n",
        "\n",
        "def sanitize(s, chars):\n",
        "    return ''.join(c for c in s if c in chars)\n",
        "\n",
        "def reverse(s):\n",
        "    return s[::-1]\n",
        "\n",
        "with open('fear.txt') as stream:\n",
        "    lines = [line.rstrip() for line in stream]\n",
        "\n",
        "# let's write the mirrored version of the file\n",
        "with open('raef.txt', 'w') as stream:\n",
        "    stream.write('\\n'.join(reverse(line) for line in lines))\n",
        "\n",
        "# now we can calculate some statistics\n",
        "lines = [sanitize(line, chars) for line in lines]\n",
        "whole = ' '.join(lines)\n",
        "\n",
        "# we perform comparisons on the lowercased version of 'whole'\n",
        "cnt = Counter(whole.lower().split())\n",
        "\n",
        "# we can print the N most common words\n",
        "print(cnt.most_common(3))\n"
      ],
      "metadata": {
        "colab": {
          "base_uri": "https://localhost:8080/",
          "height": 254
        },
        "id": "0auA3PivBz6T",
        "outputId": "3e2885af-2fd6-433f-82de-c5c61a318388"
      },
      "execution_count": 5,
      "outputs": [
        {
          "output_type": "error",
          "ename": "FileNotFoundError",
          "evalue": "ignored",
          "traceback": [
            "\u001b[0;31m---------------------------------------------------------------------------\u001b[0m",
            "\u001b[0;31mFileNotFoundError\u001b[0m                         Traceback (most recent call last)",
            "\u001b[0;32m<ipython-input-5-2e65fc843d02>\u001b[0m in \u001b[0;36m<cell line: 12>\u001b[0;34m()\u001b[0m\n\u001b[1;32m     10\u001b[0m     \u001b[0;32mreturn\u001b[0m \u001b[0ms\u001b[0m\u001b[0;34m[\u001b[0m\u001b[0;34m:\u001b[0m\u001b[0;34m:\u001b[0m\u001b[0;34m-\u001b[0m\u001b[0;36m1\u001b[0m\u001b[0;34m]\u001b[0m\u001b[0;34m\u001b[0m\u001b[0;34m\u001b[0m\u001b[0m\n\u001b[1;32m     11\u001b[0m \u001b[0;34m\u001b[0m\u001b[0m\n\u001b[0;32m---> 12\u001b[0;31m \u001b[0;32mwith\u001b[0m \u001b[0mopen\u001b[0m\u001b[0;34m(\u001b[0m\u001b[0;34m'fear.txt'\u001b[0m\u001b[0;34m)\u001b[0m \u001b[0;32mas\u001b[0m \u001b[0mstream\u001b[0m\u001b[0;34m:\u001b[0m\u001b[0;34m\u001b[0m\u001b[0;34m\u001b[0m\u001b[0m\n\u001b[0m\u001b[1;32m     13\u001b[0m     \u001b[0mlines\u001b[0m \u001b[0;34m=\u001b[0m \u001b[0;34m[\u001b[0m\u001b[0mline\u001b[0m\u001b[0;34m.\u001b[0m\u001b[0mrstrip\u001b[0m\u001b[0;34m(\u001b[0m\u001b[0;34m)\u001b[0m \u001b[0;32mfor\u001b[0m \u001b[0mline\u001b[0m \u001b[0;32min\u001b[0m \u001b[0mstream\u001b[0m\u001b[0;34m]\u001b[0m\u001b[0;34m\u001b[0m\u001b[0;34m\u001b[0m\u001b[0m\n\u001b[1;32m     14\u001b[0m \u001b[0;34m\u001b[0m\u001b[0m\n",
            "\u001b[0;31mFileNotFoundError\u001b[0m: [Errno 2] No such file or directory: 'fear.txt'"
          ]
        }
      ]
    },
    {
      "cell_type": "code",
      "source": [
        "import shutil\n",
        "from pathlib import Path\n",
        "\n",
        "base_path = Path('ops_example')\n",
        "\n",
        "# let's perform an initial cleanup just in case\n",
        "if base_path.exists() and base_path.is_dir():\n",
        "    shutil.rmtree(base_path)\n",
        "\n",
        "# now we create the directory\n",
        "base_path.mkdir()\n",
        "path_b = base_path / 'A' / 'B'\n",
        "path_c = base_path / 'A' / 'C'\n",
        "path_d = base_path / 'A' / 'D'\n",
        "path_b.mkdir(parents=True)\n",
        "path_c.mkdir()  # no need for parents now, as 'A' has been created\n",
        "\n",
        "# we add three files in 'ops_example/A/B'\n",
        "for filename in ('ex1.txt', 'ex2.txt', 'ex3.txt'):\n",
        "    with open(path_b / filename, 'w') as stream:\n",
        "        stream.write(f'Some content here in {filename}\\n')\n",
        "\n",
        "shutil.move(path_b, path_d)\n",
        "\n",
        "# we can also rename files\n",
        "ex1 = path_d / 'ex1.txt'\n",
        "ex1.rename(ex1.parent / 'ex1.renamed.txt')\n"
      ],
      "metadata": {
        "colab": {
          "base_uri": "https://localhost:8080/"
        },
        "id": "FuoKCLeACXmv",
        "outputId": "414364cf-b542-4d06-b946-159b2f1f66d1"
      },
      "execution_count": 7,
      "outputs": [
        {
          "output_type": "execute_result",
          "data": {
            "text/plain": [
              "PosixPath('ops_example/A/D/ex1.renamed.txt')"
            ]
          },
          "metadata": {},
          "execution_count": 7
        }
      ]
    },
    {
      "cell_type": "code",
      "source": [
        "from pathlib import Path\n",
        "\n",
        "# Crear un objeto de ruta para 'fear.txt'\n",
        "p = Path('fear.txt')\n",
        "\n",
        "# Imprimir la ruta absoluta del archivo\n",
        "print(\"Ruta absoluta:\", p.absolute())\n",
        "\n",
        "# Imprimir el nombre del archivo\n",
        "print(\"Nombre del archivo:\", p.name)\n",
        "\n",
        "# Imprimir la ruta absoluta del directorio padre del archivo\n",
        "print(\"Ruta absoluta del directorio padre:\", p.parent.absolute())\n",
        "\n",
        "# Imprimir la extensión del archivo (si la tiene)\n",
        "print(\"Extensión del archivo:\", p.suffix)\n",
        "\n",
        "# Imprimir las partes de la ruta del archivo\n",
        "print(\"Partes de la ruta:\", p.parts)\n",
        "\n",
        "# Imprimir las partes de la ruta absoluta del archivo\n",
        "print(\"Partes de la ruta absoluta:\", p.absolute().parts)\n",
        "\n",
        "# Crear una nueva ruta hacia 'README.rst' a partir de la ruta del archivo 'fear.txt'\n",
        "readme_path = p.parent / '..' / '..' / 'README.rst'\n",
        "\n",
        "# Imprimir la ruta absoluta de 'README.rst'\n",
        "print(\"Ruta absoluta de README.rst:\", readme_path.absolute())\n",
        "\n",
        "# Resolver la ruta de 'README.rst' para obtener la ruta canónica\n",
        "print(\"Ruta resuelta de README.rst:\", readme_path.resolve())\n",
        "from pathlib import Path\n",
        "\n",
        "# Crear un objeto de ruta para 'fear.txt'\n",
        "p = Path('fear.txt')\n",
        "\n",
        "# Imprimir la ruta absoluta del archivo\n",
        "print(\"Ruta absoluta:\", p.absolute())\n",
        "\n",
        "# Imprimir el nombre del archivo\n",
        "print(\"Nombre del archivo:\", p.name)\n",
        "\n",
        "# Imprimir la ruta absoluta del directorio padre del archivo\n",
        "print(\"Ruta absoluta del directorio padre:\", p.parent.absolute())\n",
        "\n",
        "# Imprimir la extensión del archivo (si la tiene)\n",
        "print(\"Extensión del archivo:\", p.suffix)\n",
        "\n",
        "# Imprimir las partes de la ruta del archivo\n",
        "print(\"Partes de la ruta:\", p.parts)\n",
        "\n",
        "# Imprimir las partes de la ruta absoluta del archivo\n",
        "print(\"Partes de la ruta absoluta:\", p.absolute().parts)\n",
        "\n",
        "# Crear una nueva ruta hacia 'README.rst' a partir de la ruta del archivo 'fear.txt'\n",
        "readme_path = p.parent / '..' / '..' / 'README.rst'\n",
        "\n",
        "# Imprimir la ruta absoluta de 'README.rst'\n",
        "print(\"Ruta absoluta de README.rst:\", readme_path.absolute())\n",
        "\n",
        "# Resolver la ruta de 'README.rst' para obtener la ruta canónica\n",
        "print(\"Ruta resuelta de README.rst:\", readme_path.resolve())\n"
      ],
      "metadata": {
        "colab": {
          "base_uri": "https://localhost:8080/"
        },
        "id": "AWD9lve6CvQ1",
        "outputId": "15eac5ee-5d6c-4fbb-bc69-19670338df2e"
      },
      "execution_count": 8,
      "outputs": [
        {
          "output_type": "stream",
          "name": "stdout",
          "text": [
            "Ruta absoluta: /content/fear.txt\n",
            "Nombre del archivo: fear.txt\n",
            "Ruta absoluta del directorio padre: /content\n",
            "Extensión del archivo: .txt\n",
            "Partes de la ruta: ('fear.txt',)\n",
            "Partes de la ruta absoluta: ('/', 'content', 'fear.txt')\n",
            "Ruta absoluta de README.rst: /content/../../README.rst\n",
            "Ruta resuelta de README.rst: /README.rst\n",
            "Ruta absoluta: /content/fear.txt\n",
            "Nombre del archivo: fear.txt\n",
            "Ruta absoluta del directorio padre: /content\n",
            "Extensión del archivo: .txt\n",
            "Partes de la ruta: ('fear.txt',)\n",
            "Partes de la ruta absoluta: ('/', 'content', 'fear.txt')\n",
            "Ruta absoluta de README.rst: /content/../../README.rst\n",
            "Ruta resuelta de README.rst: /README.rst\n"
          ]
        }
      ]
    },
    {
      "cell_type": "code",
      "source": [
        "from pathlib import Path\n",
        "\n",
        "p = Path('.')\n",
        "for entry in p.glob('*'):\n",
        "    print('File:' if entry.is_file() else 'Folder:', entry)\n"
      ],
      "metadata": {
        "id": "W3o_RJ_yCyaF"
      },
      "execution_count": null,
      "outputs": []
    },
    {
      "cell_type": "code",
      "source": [
        "import os\n",
        "\n",
        "for root, dirs, files in os.walk('.'):\n",
        "    abs_root = os.path.abspath(root)\n",
        "    print(abs_root)\n",
        "    if dirs:\n",
        "        print('Directories:')\n",
        "        for dir_ in dirs:\n",
        "            print(os.path.join(abs_root, dir_))\n",
        "    if files:\n",
        "        print('Files:')\n",
        "        for filename in files:\n",
        "            print(filename)\n",
        "    print()  # Agregar una línea en blanco entre las iteraciones de directorios y archivos\n",
        "\n"
      ],
      "metadata": {
        "colab": {
          "base_uri": "https://localhost:8080/"
        },
        "id": "77s4UniyFt8Y",
        "outputId": "71799c23-5a6d-4816-ea95-3dcf436a09a0"
      },
      "execution_count": 9,
      "outputs": [
        {
          "output_type": "stream",
          "name": "stdout",
          "text": [
            "/content\n",
            "Directories:\n",
            "/content/.config\n",
            "/content/ops_example\n",
            "/content/sample_data\n",
            "Files:\n",
            "write_x.txt\n",
            "\n",
            "/content/.config\n",
            "Directories:\n",
            "/content/.config/logs\n",
            "/content/.config/configurations\n",
            "Files:\n",
            ".last_update_check.json\n",
            "default_configs.db\n",
            ".last_opt_in_prompt.yaml\n",
            "active_config\n",
            "config_sentinel\n",
            "gce\n",
            ".last_survey_prompt.yaml\n",
            "\n",
            "/content/.config/logs\n",
            "Directories:\n",
            "/content/.config/logs/2023.09.15\n",
            "\n",
            "/content/.config/logs/2023.09.15\n",
            "Files:\n",
            "13.22.10.131489.log\n",
            "13.22.09.324179.log\n",
            "13.21.32.854551.log\n",
            "13.21.41.882195.log\n",
            "13.20.39.626976.log\n",
            "13.21.06.946322.log\n",
            "\n",
            "/content/.config/configurations\n",
            "Files:\n",
            "config_default\n",
            "\n",
            "/content/ops_example\n",
            "Directories:\n",
            "/content/ops_example/A\n",
            "\n",
            "/content/ops_example/A\n",
            "Directories:\n",
            "/content/ops_example/A/D\n",
            "/content/ops_example/A/C\n",
            "\n",
            "/content/ops_example/A/D\n",
            "Files:\n",
            "ex2.txt\n",
            "ex3.txt\n",
            "ex1.renamed.txt\n",
            "\n",
            "/content/ops_example/A/C\n",
            "\n",
            "/content/sample_data\n",
            "Files:\n",
            "anscombe.json\n",
            "README.md\n",
            "mnist_train_small.csv\n",
            "mnist_test.csv\n",
            "california_housing_test.csv\n",
            "california_housing_train.csv\n",
            "\n"
          ]
        }
      ]
    },
    {
      "cell_type": "code",
      "source": [
        "import os\n",
        "\n",
        "for root, dirs, files in os.walk('.'):\n",
        "    abs_root = os.path.abspath(root)\n",
        "    print(abs_root)\n",
        "    if dirs:\n",
        "        print('Directories:')\n",
        "        for dir_ in dirs:\n",
        "            print(os.path.join(abs_root, dir_))\n",
        "    if files:\n",
        "        print('Files:')\n",
        "        for filename in files:\n",
        "            print(filename)\n",
        "    print()  # Agregar una línea en blanco entre las iteraciones de directorios y archivos\n",
        "\n"
      ],
      "metadata": {
        "colab": {
          "base_uri": "https://localhost:8080/"
        },
        "id": "Vm04aPALGpMb",
        "outputId": "edda503d-f97e-429c-9ad9-672d4b8e162b"
      },
      "execution_count": 10,
      "outputs": [
        {
          "output_type": "stream",
          "name": "stdout",
          "text": [
            "/content\n",
            "Directories:\n",
            "/content/.config\n",
            "/content/ops_example\n",
            "/content/sample_data\n",
            "Files:\n",
            "write_x.txt\n",
            "\n",
            "/content/.config\n",
            "Directories:\n",
            "/content/.config/logs\n",
            "/content/.config/configurations\n",
            "Files:\n",
            ".last_update_check.json\n",
            "default_configs.db\n",
            ".last_opt_in_prompt.yaml\n",
            "active_config\n",
            "config_sentinel\n",
            "gce\n",
            ".last_survey_prompt.yaml\n",
            "\n",
            "/content/.config/logs\n",
            "Directories:\n",
            "/content/.config/logs/2023.09.15\n",
            "\n",
            "/content/.config/logs/2023.09.15\n",
            "Files:\n",
            "13.22.10.131489.log\n",
            "13.22.09.324179.log\n",
            "13.21.32.854551.log\n",
            "13.21.41.882195.log\n",
            "13.20.39.626976.log\n",
            "13.21.06.946322.log\n",
            "\n",
            "/content/.config/configurations\n",
            "Files:\n",
            "config_default\n",
            "\n",
            "/content/ops_example\n",
            "Directories:\n",
            "/content/ops_example/A\n",
            "\n",
            "/content/ops_example/A\n",
            "Directories:\n",
            "/content/ops_example/A/D\n",
            "/content/ops_example/A/C\n",
            "\n",
            "/content/ops_example/A/D\n",
            "Files:\n",
            "ex2.txt\n",
            "ex3.txt\n",
            "ex1.renamed.txt\n",
            "\n",
            "/content/ops_example/A/C\n",
            "\n",
            "/content/sample_data\n",
            "Files:\n",
            "anscombe.json\n",
            "README.md\n",
            "mnist_train_small.csv\n",
            "mnist_test.csv\n",
            "california_housing_test.csv\n",
            "california_housing_train.csv\n",
            "\n"
          ]
        }
      ]
    },
    {
      "cell_type": "code",
      "source": [
        "# json_examples/json_basic.py\n",
        "import sys\n",
        "import json\n",
        "data = {\n",
        "'big_number': 2 ** 3141,\n",
        "'max_float': sys.float_info.max,\n",
        "'a_list': [2, 3, 5, 7],\n",
        "}\n",
        "json_data = json.dumps(data)\n",
        "data_out = json.loads(json_data)\n",
        "assert data == data_out # json and back, data matches"
      ],
      "metadata": {
        "id": "sqNcyw3UGzXN"
      },
      "execution_count": 13,
      "outputs": []
    },
    {
      "cell_type": "code",
      "source": [
        "# json_examples/json_basic.py\n",
        "import json\n",
        "info = {\n",
        "'full_name': 'Sherlock Holmes',\n",
        "'address': {\n",
        "'street': '221B Baker St',\n",
        "'zip': 'NW1 6XE',\n",
        "'city': 'London',\n",
        "'country': 'UK',\n",
        "}\n",
        "}\n",
        "print(json.dumps(info, indent=2, sort_keys=True))"
      ],
      "metadata": {
        "colab": {
          "base_uri": "https://localhost:8080/"
        },
        "id": "FX_V3DgiG-he",
        "outputId": "3f927f5b-ba92-4f8a-f05b-10285573f092"
      },
      "execution_count": 14,
      "outputs": [
        {
          "output_type": "stream",
          "name": "stdout",
          "text": [
            "{\n",
            "  \"address\": {\n",
            "    \"city\": \"London\",\n",
            "    \"country\": \"UK\",\n",
            "    \"street\": \"221B Baker St\",\n",
            "    \"zip\": \"NW1 6XE\"\n",
            "  },\n",
            "  \"full_name\": \"Sherlock Holmes\"\n",
            "}\n"
          ]
        }
      ]
    },
    {
      "cell_type": "code",
      "source": [
        "import json\n",
        "\n",
        "class ComplexEncoder(json.JSONEncoder):\n",
        "    def default(self, obj):\n",
        "        print(f\"ComplexEncoder.default: {obj=}\")\n",
        "        if isinstance(obj, complex):\n",
        "            return {\n",
        "                '_meta': '_complex',\n",
        "                'num': [obj.real, obj.imag],\n",
        "            }\n",
        "        return super().default(obj)\n",
        "\n",
        "def object_hook(obj):\n",
        "    print(f\"object_hook: {obj=}\")\n",
        "    try:\n",
        "        if obj['_meta'] == '_complex':\n",
        "            return complex(*obj['num'])\n",
        "    except KeyError:\n",
        "        return obj\n",
        "\n",
        "data = {\n",
        "    'an_int': 42,\n",
        "    'a_float': 3.14159265,\n",
        "    'a_complex': 3 + 4j,\n",
        "}\n",
        "json_data = json.dumps(data, cls=ComplexEncoder)\n",
        "print(json_data)\n",
        "\n",
        "data_out = json.loads(json_data, object_hook=object_hook)\n",
        "print(data_out)\n"
      ],
      "metadata": {
        "colab": {
          "base_uri": "https://localhost:8080/"
        },
        "id": "GNFVydJqHEBP",
        "outputId": "0d8fb0d4-511e-43b7-8c23-4ea3826ad7a2"
      },
      "execution_count": 15,
      "outputs": [
        {
          "output_type": "stream",
          "name": "stdout",
          "text": [
            "ComplexEncoder.default: obj=(3+4j)\n",
            "{\"an_int\": 42, \"a_float\": 3.14159265, \"a_complex\": {\"_meta\": \"_complex\", \"num\": [3.0, 4.0]}}\n",
            "object_hook: obj={'_meta': '_complex', 'num': [3.0, 4.0]}\n",
            "object_hook: obj={'an_int': 42, 'a_float': 3.14159265, 'a_complex': (3+4j)}\n",
            "{'an_int': 42, 'a_float': 3.14159265, 'a_complex': (3+4j)}\n"
          ]
        }
      ]
    }
  ]
}